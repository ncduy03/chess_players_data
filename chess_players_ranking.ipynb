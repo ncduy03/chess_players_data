{
 "cells": [
  {
   "cell_type": "code",
   "execution_count": 8,
   "metadata": {},
   "outputs": [],
   "source": [
    "from bs4 import BeautifulSoup\n",
    "import requests\n",
    "import pandas as pd"
   ]
  },
  {
   "cell_type": "code",
   "execution_count": 9,
   "metadata": {},
   "outputs": [],
   "source": [
    "data = []"
   ]
  },
  {
   "cell_type": "code",
   "execution_count": 12,
   "metadata": {},
   "outputs": [],
   "source": [
    "def crawl_data():\n",
    "    table = soup.find(\"table\", class_ = \"table-component\")\n",
    "    tbody = table.find('tbody')\n",
    "    players = tbody.find_all('tr')\n",
    "    \n",
    "    for player in players:\n",
    "        name = player.find('a', class_='master-players-rating-username').text.strip()\n",
    "        classical = player.find('div', class_ = 'master-players-rating-player-rank master-players-rating-rank-active').text.strip()\n",
    "        rapid = player.find_all('div', class_ = 'master-players-rating-player-rank')[1].text.strip()\n",
    "        blitz = player.find_all('div', class_ = 'master-players-rating-player-rank')[2].text.strip()\n",
    "        \n",
    "        data.append({\"Name\":name, \"Classical\":classical, \"Rapid\":rapid, \"Blizt\":blitz,})"
   ]
  },
  {
   "cell_type": "code",
   "execution_count": 13,
   "metadata": {},
   "outputs": [],
   "source": [
    "base_url = \"https://www.chess.com/ratings?page=\"\n",
    "page_number = 1\n",
    "while page_number <= 20:\n",
    "    url = base_url + str(page_number)\n",
    "    response = requests.get(url)\n",
    "    if response.status_code != 200:\n",
    "        print(\"Request error!\")\n",
    "        break\n",
    "    soup = BeautifulSoup(response.text, 'html.parser')\n",
    "    \n",
    "    crawl_data()\n",
    "    \n",
    "    page_number += 1"
   ]
  },
  {
   "cell_type": "code",
   "execution_count": 14,
   "metadata": {},
   "outputs": [],
   "source": [
    "df = pd.DataFrame(data)\n",
    "df.insert(0, 'Rank', df.index + 1)\n",
    "df.to_csv('chess_players_ranking.csv', index=False)"
   ]
  }
 ],
 "metadata": {
  "kernelspec": {
   "display_name": "Python 3",
   "language": "python",
   "name": "python3"
  },
  "language_info": {
   "codemirror_mode": {
    "name": "ipython",
    "version": 3
   },
   "file_extension": ".py",
   "mimetype": "text/x-python",
   "name": "python",
   "nbconvert_exporter": "python",
   "pygments_lexer": "ipython3",
   "version": "3.11.3"
  }
 },
 "nbformat": 4,
 "nbformat_minor": 2
}
